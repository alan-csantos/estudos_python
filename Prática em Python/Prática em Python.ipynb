{
 "cells": [
  {
   "cell_type": "markdown",
   "id": "312e8274",
   "metadata": {},
   "source": [
    "# Prática em Python\n",
    "\n",
    "1. Faça um programa que tenha uma função chamada amplitude. A função deve receber uma lista e imprimir a amplitude.Crie também um código para testar sua função\n",
    "Crie também um código para testar sua função\n"
   ]
  },
  {
   "cell_type": "code",
   "execution_count": 3,
   "id": "68dd8509",
   "metadata": {},
   "outputs": [
    {
     "name": "stdout",
     "output_type": "stream",
     "text": [
      "Amplitude: 44\n"
     ]
    }
   ],
   "source": [
    "def amplitude(lista):\n",
    "    print(\"Amplitude:\", max(lista) - min(lista))\n",
    "    \n",
    "lista = [1,3,5,9,10,22,32,45]\n",
    "\n",
    "amplitude(lista)"
   ]
  },
  {
   "cell_type": "markdown",
   "id": "529d436e",
   "metadata": {},
   "source": [
    "# 2. Faça uma função que receba uma string e imprima esta string na forma vertical\n",
    "Por exemplo, se receber python, deve imprimir\n",
    "p\n",
    "y\n",
    "t\n",
    "h\n",
    "o\n",
    "n\n",
    "Dica: uma string do python funciona como uma lista!\n",
    "Crie também um código para testar sua função\n"
   ]
  },
  {
   "cell_type": "code",
   "execution_count": 6,
   "id": "b3ab169a",
   "metadata": {},
   "outputs": [
    {
     "name": "stdout",
     "output_type": "stream",
     "text": [
      "Escreva a String desejada: testestrig\n",
      "t\n",
      "e\n",
      "s\n",
      "t\n",
      "e\n",
      "s\n",
      "t\n",
      "r\n",
      "i\n",
      "g\n"
     ]
    }
   ],
   "source": [
    "def imprimir_string():\n",
    "    string = input(\"Escreva a String desejada: \")\n",
    "    \n",
    "    for caractere in string:\n",
    "        print(caractere) \n",
    "        \n",
    "\n",
    "        \n",
    "imprimir_string()\n"
   ]
  }
 ],
 "metadata": {
  "kernelspec": {
   "display_name": "Python 3 (ipykernel)",
   "language": "python",
   "name": "python3"
  },
  "language_info": {
   "codemirror_mode": {
    "name": "ipython",
    "version": 3
   },
   "file_extension": ".py",
   "mimetype": "text/x-python",
   "name": "python",
   "nbconvert_exporter": "python",
   "pygments_lexer": "ipython3",
   "version": "3.9.12"
  }
 },
 "nbformat": 4,
 "nbformat_minor": 5
}
