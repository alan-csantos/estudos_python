{
 "cells": [
  {
   "cell_type": "markdown",
   "id": "ff8dac82",
   "metadata": {},
   "source": [
    "# Tratar dados 'tempo.csv'\n",
    "\n",
    "Aparência: sol, nublado, chuva\n",
    "\n",
    "Temperatura: -135 ~ 130 F\n",
    "\n",
    "Umidade: 0 ~ 100\n",
    "\n",
    "Jogar: sim/nao\n",
    "\n",
    "Tratar valores NAs"
   ]
  },
  {
   "cell_type": "code",
   "execution_count": 280,
   "id": "408beac8",
   "metadata": {},
   "outputs": [],
   "source": [
    "#bibliotecas\n",
    "import pandas as pd\n",
    "import seaborn as srn\n",
    "import statistics  as sts"
   ]
  },
  {
   "cell_type": "code",
   "execution_count": 281,
   "id": "cf6ce03b",
   "metadata": {},
   "outputs": [
    {
     "data": {
      "text/html": [
       "<div>\n",
       "<style scoped>\n",
       "    .dataframe tbody tr th:only-of-type {\n",
       "        vertical-align: middle;\n",
       "    }\n",
       "\n",
       "    .dataframe tbody tr th {\n",
       "        vertical-align: top;\n",
       "    }\n",
       "\n",
       "    .dataframe thead th {\n",
       "        text-align: right;\n",
       "    }\n",
       "</style>\n",
       "<table border=\"1\" class=\"dataframe\">\n",
       "  <thead>\n",
       "    <tr style=\"text-align: right;\">\n",
       "      <th></th>\n",
       "      <th>Aparencia</th>\n",
       "      <th>Temperatura</th>\n",
       "      <th>Umidade</th>\n",
       "      <th>Vento</th>\n",
       "      <th>Jogar</th>\n",
       "    </tr>\n",
       "  </thead>\n",
       "  <tbody>\n",
       "    <tr>\n",
       "      <th>0</th>\n",
       "      <td>sol</td>\n",
       "      <td>85</td>\n",
       "      <td>85.0</td>\n",
       "      <td>FALSO</td>\n",
       "      <td>nao</td>\n",
       "    </tr>\n",
       "    <tr>\n",
       "      <th>1</th>\n",
       "      <td>sol</td>\n",
       "      <td>80</td>\n",
       "      <td>90.0</td>\n",
       "      <td>VERDADEIRO</td>\n",
       "      <td>nao</td>\n",
       "    </tr>\n",
       "    <tr>\n",
       "      <th>2</th>\n",
       "      <td>nublado</td>\n",
       "      <td>83</td>\n",
       "      <td>86.0</td>\n",
       "      <td>FALSO</td>\n",
       "      <td>sim</td>\n",
       "    </tr>\n",
       "    <tr>\n",
       "      <th>3</th>\n",
       "      <td>chuva</td>\n",
       "      <td>70</td>\n",
       "      <td>NaN</td>\n",
       "      <td>FALSO</td>\n",
       "      <td>sim</td>\n",
       "    </tr>\n",
       "    <tr>\n",
       "      <th>4</th>\n",
       "      <td>chuva</td>\n",
       "      <td>68</td>\n",
       "      <td>80.0</td>\n",
       "      <td>FALSO</td>\n",
       "      <td>sim</td>\n",
       "    </tr>\n",
       "  </tbody>\n",
       "</table>\n",
       "</div>"
      ],
      "text/plain": [
       "  Aparencia  Temperatura  Umidade       Vento Jogar\n",
       "0       sol           85     85.0       FALSO   nao\n",
       "1       sol           80     90.0  VERDADEIRO   nao\n",
       "2   nublado           83     86.0       FALSO   sim\n",
       "3     chuva           70      NaN       FALSO   sim\n",
       "4     chuva           68     80.0       FALSO   sim"
      ]
     },
     "execution_count": 281,
     "metadata": {},
     "output_type": "execute_result"
    }
   ],
   "source": [
    "#importar dados\n",
    "dataset = pd.read_csv(\"tempo.csv\", sep=\";\")\n",
    "#visulizar\n",
    "dataset.head()\n"
   ]
  },
  {
   "cell_type": "code",
   "execution_count": 282,
   "id": "161b557a",
   "metadata": {},
   "outputs": [
    {
     "data": {
      "text/plain": [
       "(14, 5)"
      ]
     },
     "execution_count": 282,
     "metadata": {},
     "output_type": "execute_result"
    }
   ],
   "source": [
    "#tamanho\n",
    "dataset.shape"
   ]
  },
  {
   "cell_type": "markdown",
   "id": "1bd25901",
   "metadata": {},
   "source": [
    "Podemos notar que se trata de uma dataset bem pequeno em quantidade de colunas e linhas, mas que demonstra de maneira bem clara os desafios do dia a dia de com uma das tarefas mais comuns na vida de um cientista de dados, a limpeza de dados.\n",
    " \n",
    "O primeiro passo é realizar uma análise exploratória dos dados, para entender melhor com o que estamos lidando."
   ]
  },
  {
   "cell_type": "code",
   "execution_count": 283,
   "id": "e81e084c",
   "metadata": {},
   "outputs": [
    {
     "data": {
      "text/plain": [
       "Aparencia\n",
       "chuva      5\n",
       "menos      1\n",
       "nublado    3\n",
       "sol        5\n",
       "dtype: int64"
      ]
     },
     "execution_count": 283,
     "metadata": {},
     "output_type": "execute_result"
    }
   ],
   "source": [
    "#explorar dados categoricos\n",
    "#Aparencia\n",
    "agrupado = dataset.groupby(['Aparencia']).size()\n",
    "agrupado"
   ]
  },
  {
   "cell_type": "code",
   "execution_count": 284,
   "id": "2318ea33",
   "metadata": {},
   "outputs": [
    {
     "data": {
      "text/plain": [
       "<AxesSubplot:xlabel='Aparencia'>"
      ]
     },
     "execution_count": 284,
     "metadata": {},
     "output_type": "execute_result"
    },
    {
     "data": {
      "image/png": "[encoded data removed]",
      "text/plain": [
       "<Figure size 432x288 with 1 Axes>"
      ]
     },
     "metadata": {
      "needs_background": "light"
     },
     "output_type": "display_data"
    }
   ],
   "source": [
    "#Logo de início podemos notar uma inconsistencia nos dados relacionados a Aparência\n",
    "agrupado.plot.bar(color = 'gray')"
   ]
  },
  {
   "cell_type": "code",
   "execution_count": 285,
   "id": "e6abb67f",
   "metadata": {},
   "outputs": [
    {
     "data": {
      "text/plain": [
       "Temperatura\n",
       "64      1\n",
       "65      1\n",
       "68      1\n",
       "69      1\n",
       "70      1\n",
       "71      1\n",
       "72      1\n",
       "75      2\n",
       "80      1\n",
       "81      1\n",
       "83      1\n",
       "85      1\n",
       "1220    1\n",
       "dtype: int64"
      ]
     },
     "execution_count": 285,
     "metadata": {},
     "output_type": "execute_result"
    }
   ],
   "source": [
    "#Temperatura\n",
    "agrupado = dataset.groupby(['Temperatura']).size()\n",
    "agrupado\n"
   ]
  },
  {
   "cell_type": "code",
   "execution_count": 286,
   "id": "4ba42263",
   "metadata": {},
   "outputs": [
    {
     "data": {
      "text/plain": [
       "<AxesSubplot:xlabel='Temperatura'>"
      ]
     },
     "execution_count": 286,
     "metadata": {},
     "output_type": "execute_result"
    },
    {
     "data": {
      "image/png": "[encoded data removed]",
      "text/plain": [
       "<Figure size 432x288 with 1 Axes>"
      ]
     },
     "metadata": {
      "needs_background": "light"
     },
     "output_type": "display_data"
    }
   ],
   "source": [
    "#Também é possivel notar dados fora do domínio na coluna Temperatura, indicando uma temperatura de 1200\n",
    "agrupado.plot.bar(color = 'gray')"
   ]
  },
  {
   "cell_type": "code",
   "execution_count": 287,
   "id": "aea325ca",
   "metadata": {},
   "outputs": [
    {
     "data": {
      "text/plain": [
       "Umidade\n",
       "65.0     1\n",
       "70.0     3\n",
       "75.0     1\n",
       "80.0     1\n",
       "85.0     1\n",
       "86.0     1\n",
       "90.0     2\n",
       "91.0     1\n",
       "95.0     1\n",
       "200.0    1\n",
       "dtype: int64"
      ]
     },
     "execution_count": 287,
     "metadata": {},
     "output_type": "execute_result"
    }
   ],
   "source": [
    "#Umidade\n",
    "agrupado = dataset.groupby(['Umidade']).size()\n",
    "agrupado"
   ]
  },
  {
   "cell_type": "code",
   "execution_count": 288,
   "id": "c8200252",
   "metadata": {},
   "outputs": [
    {
     "data": {
      "text/plain": [
       "<AxesSubplot:xlabel='Umidade'>"
      ]
     },
     "execution_count": 288,
     "metadata": {},
     "output_type": "execute_result"
    },
    {
     "data": {
      "image/png": "[encoded data removed]",
      "text/plain": [
       "<Figure size 432x288 with 1 Axes>"
      ]
     },
     "metadata": {
      "needs_background": "light"
     },
     "output_type": "display_data"
    }
   ],
   "source": [
    "#Na Umidade também é possivel notar certa discrepância já que a umidade relativa do ar pode ir de 0 até 100\n",
    "agrupado.plot.bar(color = 'gray')"
   ]
  },
  {
   "cell_type": "code",
   "execution_count": 289,
   "id": "7c52d899",
   "metadata": {},
   "outputs": [
    {
     "data": {
      "text/plain": [
       "Jogar\n",
       "nao    5\n",
       "sim    9\n",
       "dtype: int64"
      ]
     },
     "execution_count": 289,
     "metadata": {},
     "output_type": "execute_result"
    }
   ],
   "source": [
    "#explorar dados categoricos\n",
    "#Jogar\n",
    "agrupado = dataset.groupby(['Jogar']).size()\n",
    "agrupado"
   ]
  },
  {
   "cell_type": "code",
   "execution_count": 290,
   "id": "fb00277b",
   "metadata": {},
   "outputs": [
    {
     "data": {
      "text/plain": [
       "<AxesSubplot:xlabel='Jogar'>"
      ]
     },
     "execution_count": 290,
     "metadata": {},
     "output_type": "execute_result"
    },
    {
     "data": {
      "image/png": "[encoded data removed]",
      "text/plain": [
       "<Figure size 432x288 with 1 Axes>"
      ]
     },
     "metadata": {
      "needs_background": "light"
     },
     "output_type": "display_data"
    }
   ],
   "source": [
    "agrupado.plot.bar(color ='blue')"
   ]
  },
  {
   "cell_type": "code",
   "execution_count": 291,
   "id": "d4152d04",
   "metadata": {},
   "outputs": [
    {
     "data": {
      "text/plain": [
       "count      14.000000\n",
       "mean      155.571429\n",
       "std       306.433759\n",
       "min        64.000000\n",
       "25%        69.250000\n",
       "50%        73.500000\n",
       "75%        80.750000\n",
       "max      1220.000000\n",
       "Name: Temperatura, dtype: float64"
      ]
     },
     "execution_count": 291,
     "metadata": {},
     "output_type": "execute_result"
    }
   ],
   "source": [
    "#explorar colunas numéricas\n",
    "#Temperatura\n",
    "dataset['Temperatura'].describe()\n"
   ]
  },
  {
   "cell_type": "code",
   "execution_count": 292,
   "id": "269e4c3f",
   "metadata": {},
   "outputs": [
    {
     "name": "stderr",
     "output_type": "stream",
     "text": [
      "c:\\Users\\Alan\\anaconda3\\lib\\site-packages\\seaborn\\_decorators.py:36: FutureWarning: Pass the following variable as a keyword arg: x. From version 0.12, the only valid positional argument will be `data`, and passing other arguments without an explicit keyword will result in an error or misinterpretation.\n",
      "  warnings.warn(\n"
     ]
    },
    {
     "data": {
      "text/plain": [
       "Text(0.5, 1.0, 'Temperatura')"
      ]
     },
     "execution_count": 292,
     "metadata": {},
     "output_type": "execute_result"
    },
    {
     "data": {
      "image/png": "[encoded data removed]",
      "text/plain": [
       "<Figure size 432x288 with 1 Axes>"
      ]
     },
     "metadata": {
      "needs_background": "light"
     },
     "output_type": "display_data"
    }
   ],
   "source": [
    "srn.boxplot(dataset['Temperatura']).set_title('Temperatura')\n"
   ]
  },
  {
   "cell_type": "code",
   "execution_count": 293,
   "id": "616d53ae",
   "metadata": {},
   "outputs": [
    {
     "name": "stderr",
     "output_type": "stream",
     "text": [
      "c:\\Users\\Alan\\anaconda3\\lib\\site-packages\\seaborn\\distributions.py:2619: FutureWarning: `distplot` is a deprecated function and will be removed in a future version. Please adapt your code to use either `displot` (a figure-level function with similar flexibility) or `histplot` (an axes-level function for histograms).\n",
      "  warnings.warn(msg, FutureWarning)\n"
     ]
    },
    {
     "data": {
      "text/plain": [
       "Text(0.5, 1.0, 'Temperatura')"
      ]
     },
     "execution_count": 293,
     "metadata": {},
     "output_type": "execute_result"
    },
    {
     "data": {
      "image/png": "[encoded data removed]",
      "text/plain": [
       "<Figure size 432x288 with 1 Axes>"
      ]
     },
     "metadata": {
      "needs_background": "light"
     },
     "output_type": "display_data"
    }
   ],
   "source": [
    "srn.distplot(dataset['Temperatura']).set_title('Temperatura')\n"
   ]
  },
  {
   "cell_type": "code",
   "execution_count": 294,
   "id": "067cb32f",
   "metadata": {},
   "outputs": [
    {
     "data": {
      "text/plain": [
       "count     13.000000\n",
       "mean      89.769231\n",
       "std       34.540203\n",
       "min       65.000000\n",
       "25%       70.000000\n",
       "50%       85.000000\n",
       "75%       90.000000\n",
       "max      200.000000\n",
       "Name: Umidade, dtype: float64"
      ]
     },
     "execution_count": 294,
     "metadata": {},
     "output_type": "execute_result"
    }
   ],
   "source": [
    "#explorar colunas numéricas\n",
    "#Umidade\n",
    "dataset['Umidade'].describe()\n"
   ]
  },
  {
   "cell_type": "code",
   "execution_count": 295,
   "id": "130b056f",
   "metadata": {},
   "outputs": [
    {
     "name": "stderr",
     "output_type": "stream",
     "text": [
      "c:\\Users\\Alan\\anaconda3\\lib\\site-packages\\seaborn\\_decorators.py:36: FutureWarning: Pass the following variable as a keyword arg: x. From version 0.12, the only valid positional argument will be `data`, and passing other arguments without an explicit keyword will result in an error or misinterpretation.\n",
      "  warnings.warn(\n"
     ]
    },
    {
     "data": {
      "text/plain": [
       "Text(0.5, 1.0, 'Umidade')"
      ]
     },
     "execution_count": 295,
     "metadata": {},
     "output_type": "execute_result"
    },
    {
     "data": {
      "image/png": "[encoded data removed]",
      "text/plain": [
       "<Figure size 432x288 with 1 Axes>"
      ]
     },
     "metadata": {
      "needs_background": "light"
     },
     "output_type": "display_data"
    }
   ],
   "source": [
    "srn.boxplot(dataset['Umidade']).set_title('Umidade')"
   ]
  },
  {
   "cell_type": "code",
   "execution_count": 296,
   "id": "ec209e1c",
   "metadata": {},
   "outputs": [
    {
     "name": "stderr",
     "output_type": "stream",
     "text": [
      "c:\\Users\\Alan\\anaconda3\\lib\\site-packages\\seaborn\\distributions.py:2619: FutureWarning: `distplot` is a deprecated function and will be removed in a future version. Please adapt your code to use either `displot` (a figure-level function with similar flexibility) or `histplot` (an axes-level function for histograms).\n",
      "  warnings.warn(msg, FutureWarning)\n"
     ]
    },
    {
     "data": {
      "text/plain": [
       "Text(0.5, 1.0, 'Umidade')"
      ]
     },
     "execution_count": 296,
     "metadata": {},
     "output_type": "execute_result"
    },
    {
     "data": {
      "image/png": "[encoded data removed]",
      "text/plain": [
       "<Figure size 432x288 with 1 Axes>"
      ]
     },
     "metadata": {
      "needs_background": "light"
     },
     "output_type": "display_data"
    }
   ],
   "source": [
    "srn.distplot(dataset['Umidade']).set_title('Umidade')"
   ]
  },
  {
   "cell_type": "markdown",
   "id": "82db3026",
   "metadata": {},
   "source": [
    "Outro ponto importante e verificar Valores Nulos no dataset"
   ]
  },
  {
   "cell_type": "code",
   "execution_count": 297,
   "id": "6e60344d",
   "metadata": {},
   "outputs": [
    {
     "data": {
      "text/plain": [
       "Aparencia      0\n",
       "Temperatura    0\n",
       "Umidade        1\n",
       "Vento          1\n",
       "Jogar          0\n",
       "dtype: int64"
      ]
     },
     "execution_count": 297,
     "metadata": {},
     "output_type": "execute_result"
    }
   ],
   "source": [
    "#contamos valores NAN\n",
    "dataset.isnull().sum()\n"
   ]
  },
  {
   "cell_type": "markdown",
   "id": "927db78a",
   "metadata": {},
   "source": [
    "### Limpeza de dados Coluna Umidade"
   ]
  },
  {
   "cell_type": "code",
   "execution_count": 298,
   "id": "ebe45b67",
   "metadata": {},
   "outputs": [
    {
     "data": {
      "text/plain": [
       "Umidade\n",
       "65.0     1\n",
       "70.0     3\n",
       "75.0     1\n",
       "80.0     1\n",
       "85.0     1\n",
       "86.0     1\n",
       "90.0     2\n",
       "91.0     1\n",
       "95.0     1\n",
       "200.0    1\n",
       "dtype: int64"
      ]
     },
     "execution_count": 298,
     "metadata": {},
     "output_type": "execute_result"
    }
   ],
   "source": [
    "#umidade, dominio e NAs\n",
    "agrupado = dataset.groupby(['Umidade']).size()\n",
    "agrupado"
   ]
  },
  {
   "cell_type": "code",
   "execution_count": 299,
   "id": "73a05f95",
   "metadata": {},
   "outputs": [
    {
     "data": {
      "text/plain": [
       "1"
      ]
     },
     "execution_count": 299,
     "metadata": {},
     "output_type": "execute_result"
    }
   ],
   "source": [
    "#total de Nas\n",
    "dataset['Umidade'].isnull().sum()"
   ]
  },
  {
   "cell_type": "code",
   "execution_count": 300,
   "id": "fcad1127",
   "metadata": {},
   "outputs": [
    {
     "data": {
      "text/plain": [
       "85.5"
      ]
     },
     "execution_count": 300,
     "metadata": {},
     "output_type": "execute_result"
    }
   ],
   "source": [
    "#calular a mediana\n",
    "mediana = sts.median(dataset['Umidade'])\n",
    "mediana"
   ]
  },
  {
   "cell_type": "code",
   "execution_count": 301,
   "id": "ab5cce50",
   "metadata": {},
   "outputs": [],
   "source": [
    "#preenche NAs\n",
    "dataset['Umidade'].fillna(mediana, inplace=True)"
   ]
  },
  {
   "cell_type": "code",
   "execution_count": 302,
   "id": "4c31c3e5",
   "metadata": {},
   "outputs": [
    {
     "data": {
      "text/plain": [
       "0"
      ]
     },
     "execution_count": 302,
     "metadata": {},
     "output_type": "execute_result"
    }
   ],
   "source": [
    "dataset['Umidade'].isnull().sum()"
   ]
  },
  {
   "cell_type": "code",
   "execution_count": 303,
   "id": "3d4b93a8",
   "metadata": {},
   "outputs": [
    {
     "data": {
      "text/html": [
       "<div>\n",
       "<style scoped>\n",
       "    .dataframe tbody tr th:only-of-type {\n",
       "        vertical-align: middle;\n",
       "    }\n",
       "\n",
       "    .dataframe tbody tr th {\n",
       "        vertical-align: top;\n",
       "    }\n",
       "\n",
       "    .dataframe thead th {\n",
       "        text-align: right;\n",
       "    }\n",
       "</style>\n",
       "<table border=\"1\" class=\"dataframe\">\n",
       "  <thead>\n",
       "    <tr style=\"text-align: right;\">\n",
       "      <th></th>\n",
       "      <th>Aparencia</th>\n",
       "      <th>Temperatura</th>\n",
       "      <th>Umidade</th>\n",
       "      <th>Vento</th>\n",
       "      <th>Jogar</th>\n",
       "    </tr>\n",
       "  </thead>\n",
       "  <tbody>\n",
       "    <tr>\n",
       "      <th>9</th>\n",
       "      <td>chuva</td>\n",
       "      <td>75</td>\n",
       "      <td>200.0</td>\n",
       "      <td>NaN</td>\n",
       "      <td>sim</td>\n",
       "    </tr>\n",
       "  </tbody>\n",
       "</table>\n",
       "</div>"
      ],
      "text/plain": [
       "  Aparencia  Temperatura  Umidade Vento Jogar\n",
       "9     chuva           75    200.0   NaN   sim"
      ]
     },
     "execution_count": 303,
     "metadata": {},
     "output_type": "execute_result"
    }
   ],
   "source": [
    "#visuliza de acordo com o dominio de acordo com o dominio\n",
    "dataset.loc[(dataset['Umidade'] <  0 )  | ( dataset['Umidade'] >  100) ]\n"
   ]
  },
  {
   "cell_type": "code",
   "execution_count": 304,
   "id": "d4a99b3f",
   "metadata": {},
   "outputs": [],
   "source": [
    "#atualiza comm mediana\n",
    "dataset.loc[(dataset['Umidade'] <  0 )  | ( dataset['Umidade'] >  100), 'Umidade'] = mediana"
   ]
  },
  {
   "cell_type": "code",
   "execution_count": 305,
   "id": "c8384859",
   "metadata": {},
   "outputs": [
    {
     "data": {
      "text/html": [
       "<div>\n",
       "<style scoped>\n",
       "    .dataframe tbody tr th:only-of-type {\n",
       "        vertical-align: middle;\n",
       "    }\n",
       "\n",
       "    .dataframe tbody tr th {\n",
       "        vertical-align: top;\n",
       "    }\n",
       "\n",
       "    .dataframe thead th {\n",
       "        text-align: right;\n",
       "    }\n",
       "</style>\n",
       "<table border=\"1\" class=\"dataframe\">\n",
       "  <thead>\n",
       "    <tr style=\"text-align: right;\">\n",
       "      <th></th>\n",
       "      <th>Aparencia</th>\n",
       "      <th>Temperatura</th>\n",
       "      <th>Umidade</th>\n",
       "      <th>Vento</th>\n",
       "      <th>Jogar</th>\n",
       "    </tr>\n",
       "  </thead>\n",
       "  <tbody>\n",
       "  </tbody>\n",
       "</table>\n",
       "</div>"
      ],
      "text/plain": [
       "Empty DataFrame\n",
       "Columns: [Aparencia, Temperatura, Umidade, Vento, Jogar]\n",
       "Index: []"
      ]
     },
     "execution_count": 305,
     "metadata": {},
     "output_type": "execute_result"
    }
   ],
   "source": [
    "#visuliza novamente\n",
    "dataset.loc[(dataset['Umidade'] <  0 )  | ( dataset['Umidade'] >  100) ]"
   ]
  },
  {
   "cell_type": "markdown",
   "id": "a9adb3ee",
   "metadata": {},
   "source": [
    "### Limpeza de dados da Coluna Vento"
   ]
  },
  {
   "cell_type": "code",
   "execution_count": 306,
   "id": "eb4fb7f0",
   "metadata": {},
   "outputs": [
    {
     "data": {
      "text/plain": [
       "Vento\n",
       "FALSO         7\n",
       "VERDADEIRO    6\n",
       "dtype: int64"
      ]
     },
     "execution_count": 306,
     "metadata": {},
     "output_type": "execute_result"
    }
   ],
   "source": [
    "#Ventos\n",
    "agrupado = dataset.groupby(['Vento']).size()\n",
    "agrupado"
   ]
  },
  {
   "cell_type": "code",
   "execution_count": 307,
   "id": "7f0b2f7a",
   "metadata": {},
   "outputs": [
    {
     "data": {
      "text/plain": [
       "1"
      ]
     },
     "execution_count": 307,
     "metadata": {},
     "output_type": "execute_result"
    }
   ],
   "source": [
    "#total de Nas\n",
    "dataset['Vento'].isnull().sum()"
   ]
  },
  {
   "cell_type": "code",
   "execution_count": 308,
   "id": "5331cb17",
   "metadata": {},
   "outputs": [],
   "source": [
    "#preenche NAs\n",
    "dataset['Vento'].fillna('FALSO', inplace=True)"
   ]
  },
  {
   "cell_type": "code",
   "execution_count": 309,
   "id": "835aeee0",
   "metadata": {},
   "outputs": [
    {
     "data": {
      "text/plain": [
       "0"
      ]
     },
     "execution_count": 309,
     "metadata": {},
     "output_type": "execute_result"
    }
   ],
   "source": [
    "#total de Nas\n",
    "dataset['Vento'].isnull().sum()"
   ]
  },
  {
   "cell_type": "markdown",
   "id": "34abc756",
   "metadata": {},
   "source": [
    "### Limpeza de dados da Coluna Aparência\n"
   ]
  },
  {
   "cell_type": "code",
   "execution_count": 310,
   "id": "7c15e6d5",
   "metadata": {},
   "outputs": [
    {
     "data": {
      "text/plain": [
       "Aparencia\n",
       "chuva      5\n",
       "menos      1\n",
       "nublado    3\n",
       "sol        5\n",
       "dtype: int64"
      ]
     },
     "execution_count": 310,
     "metadata": {},
     "output_type": "execute_result"
    }
   ],
   "source": [
    "#aparencia valor invalido\n",
    "agrupado = dataset.groupby(['Aparencia']).size()\n",
    "agrupado"
   ]
  },
  {
   "cell_type": "code",
   "execution_count": 311,
   "id": "ad3210c2",
   "metadata": {},
   "outputs": [
    {
     "data": {
      "text/plain": [
       "Aparencia\n",
       "chuva      5\n",
       "nublado    3\n",
       "sol        6\n",
       "dtype: int64"
      ]
     },
     "execution_count": 311,
     "metadata": {},
     "output_type": "execute_result"
    }
   ],
   "source": [
    "dataset.loc[dataset['Aparencia'] ==  'menos', 'Aparencia'] = \"sol\"\n",
    "#visualiza o resultado\n",
    "agrupado = dataset.groupby(['Aparencia']).size()\n",
    "agrupado"
   ]
  },
  {
   "cell_type": "markdown",
   "id": "a2913af5",
   "metadata": {},
   "source": [
    "### Limpeza de dados da Coluna Temperatura"
   ]
  },
  {
   "cell_type": "code",
   "execution_count": 312,
   "id": "7cf59f62",
   "metadata": {},
   "outputs": [
    {
     "data": {
      "text/plain": [
       "count      14.000000\n",
       "mean      155.571429\n",
       "std       306.433759\n",
       "min        64.000000\n",
       "25%        69.250000\n",
       "50%        73.500000\n",
       "75%        80.750000\n",
       "max      1220.000000\n",
       "Name: Temperatura, dtype: float64"
      ]
     },
     "execution_count": 312,
     "metadata": {},
     "output_type": "execute_result"
    }
   ],
   "source": [
    "#temperatura fora do dominio\n",
    "dataset['Temperatura'].describe()"
   ]
  },
  {
   "cell_type": "code",
   "execution_count": 313,
   "id": "e67e9a23",
   "metadata": {},
   "outputs": [
    {
     "data": {
      "text/html": [
       "<div>\n",
       "<style scoped>\n",
       "    .dataframe tbody tr th:only-of-type {\n",
       "        vertical-align: middle;\n",
       "    }\n",
       "\n",
       "    .dataframe tbody tr th {\n",
       "        vertical-align: top;\n",
       "    }\n",
       "\n",
       "    .dataframe thead th {\n",
       "        text-align: right;\n",
       "    }\n",
       "</style>\n",
       "<table border=\"1\" class=\"dataframe\">\n",
       "  <thead>\n",
       "    <tr style=\"text-align: right;\">\n",
       "      <th></th>\n",
       "      <th>Aparencia</th>\n",
       "      <th>Temperatura</th>\n",
       "      <th>Umidade</th>\n",
       "      <th>Vento</th>\n",
       "      <th>Jogar</th>\n",
       "    </tr>\n",
       "  </thead>\n",
       "  <tbody>\n",
       "    <tr>\n",
       "      <th>7</th>\n",
       "      <td>sol</td>\n",
       "      <td>1220</td>\n",
       "      <td>95.0</td>\n",
       "      <td>FALSO</td>\n",
       "      <td>nao</td>\n",
       "    </tr>\n",
       "  </tbody>\n",
       "</table>\n",
       "</div>"
      ],
      "text/plain": [
       "  Aparencia  Temperatura  Umidade  Vento Jogar\n",
       "7       sol         1220     95.0  FALSO   nao"
      ]
     },
     "execution_count": 313,
     "metadata": {},
     "output_type": "execute_result"
    }
   ],
   "source": [
    "#visualizar \n",
    "dataset.loc[(dataset['Temperatura'] <  -130 )  | ( dataset['Temperatura'] >  130) ]"
   ]
  },
  {
   "cell_type": "code",
   "execution_count": 314,
   "id": "6b7c8a7d",
   "metadata": {},
   "outputs": [
    {
     "data": {
      "text/plain": [
       "73.5"
      ]
     },
     "execution_count": 314,
     "metadata": {},
     "output_type": "execute_result"
    }
   ],
   "source": [
    "#calular a mediana\n",
    "mediana = sts.median(dataset['Temperatura'])\n",
    "mediana"
   ]
  },
  {
   "cell_type": "code",
   "execution_count": 315,
   "id": "5a20f71a",
   "metadata": {},
   "outputs": [],
   "source": [
    "#substituir\n",
    "dataset.loc[(dataset['Temperatura'] <  -130 )  | ( dataset['Temperatura'] >  130), 'Temperatura'] = mediana"
   ]
  },
  {
   "cell_type": "code",
   "execution_count": 316,
   "id": "40608679",
   "metadata": {},
   "outputs": [
    {
     "data": {
      "text/html": [
       "<div>\n",
       "<style scoped>\n",
       "    .dataframe tbody tr th:only-of-type {\n",
       "        vertical-align: middle;\n",
       "    }\n",
       "\n",
       "    .dataframe tbody tr th {\n",
       "        vertical-align: top;\n",
       "    }\n",
       "\n",
       "    .dataframe thead th {\n",
       "        text-align: right;\n",
       "    }\n",
       "</style>\n",
       "<table border=\"1\" class=\"dataframe\">\n",
       "  <thead>\n",
       "    <tr style=\"text-align: right;\">\n",
       "      <th></th>\n",
       "      <th>Aparencia</th>\n",
       "      <th>Temperatura</th>\n",
       "      <th>Umidade</th>\n",
       "      <th>Vento</th>\n",
       "      <th>Jogar</th>\n",
       "    </tr>\n",
       "  </thead>\n",
       "  <tbody>\n",
       "  </tbody>\n",
       "</table>\n",
       "</div>"
      ],
      "text/plain": [
       "Empty DataFrame\n",
       "Columns: [Aparencia, Temperatura, Umidade, Vento, Jogar]\n",
       "Index: []"
      ]
     },
     "execution_count": 316,
     "metadata": {},
     "output_type": "execute_result"
    }
   ],
   "source": [
    "#verificamos se ainda existem #verificamos se ainda existem idades fora do domínio\n",
    "dataset.loc[(dataset['Temperatura'] <  -130 )  | ( dataset['Temperatura'] >  130) ]"
   ]
  },
  {
   "cell_type": "markdown",
   "id": "59bb1dee",
   "metadata": {},
   "source": [
    "## Revendo Gráficos Após Limpeza"
   ]
  },
  {
   "cell_type": "markdown",
   "id": "392c5dbc",
   "metadata": {},
   "source": [
    "Após uma série de análises foi possível encontrar e normalizar várias inconsistências, que poderiam facilmente causar problemas ao usar a base para tomada de decisões ou para criação de modelos preditivos."
   ]
  },
  {
   "cell_type": "code",
   "execution_count": 317,
   "id": "c4546e7b",
   "metadata": {},
   "outputs": [
    {
     "data": {
      "text/plain": [
       "Aparencia\n",
       "chuva      5\n",
       "nublado    3\n",
       "sol        6\n",
       "dtype: int64"
      ]
     },
     "execution_count": 317,
     "metadata": {},
     "output_type": "execute_result"
    }
   ],
   "source": [
    "#Aparencia\n",
    "agrupado = dataset.groupby(['Aparencia']).size()\n",
    "agrupado"
   ]
  },
  {
   "cell_type": "code",
   "execution_count": 318,
   "id": "df36728a",
   "metadata": {},
   "outputs": [
    {
     "data": {
      "text/plain": [
       "<AxesSubplot:xlabel='Aparencia'>"
      ]
     },
     "execution_count": 318,
     "metadata": {},
     "output_type": "execute_result"
    },
    {
     "data": {
      "image/png": "[encoded data removed]",
      "text/plain": [
       "<Figure size 432x288 with 1 Axes>"
      ]
     },
     "metadata": {
      "needs_background": "light"
     },
     "output_type": "display_data"
    }
   ],
   "source": [
    "agrupado.plot.bar(color = 'gray')"
   ]
  },
  {
   "cell_type": "code",
   "execution_count": 319,
   "id": "61cc3c21",
   "metadata": {},
   "outputs": [
    {
     "data": {
      "text/plain": [
       "Temperatura\n",
       "64.0    1\n",
       "65.0    1\n",
       "68.0    1\n",
       "69.0    1\n",
       "70.0    1\n",
       "71.0    1\n",
       "72.0    1\n",
       "73.5    1\n",
       "75.0    2\n",
       "80.0    1\n",
       "81.0    1\n",
       "83.0    1\n",
       "85.0    1\n",
       "dtype: int64"
      ]
     },
     "execution_count": 319,
     "metadata": {},
     "output_type": "execute_result"
    }
   ],
   "source": [
    "#explorar dados categoricos\n",
    "#Temperatura\n",
    "agrupado = dataset.groupby(['Temperatura']).size()\n",
    "agrupado"
   ]
  },
  {
   "cell_type": "code",
   "execution_count": 320,
   "id": "50167d0a",
   "metadata": {},
   "outputs": [
    {
     "data": {
      "text/plain": [
       "<AxesSubplot:xlabel='Temperatura'>"
      ]
     },
     "execution_count": 320,
     "metadata": {},
     "output_type": "execute_result"
    },
    {
     "data": {
      "image/png": "[encoded data removed]",
      "text/plain": [
       "<Figure size 432x288 with 1 Axes>"
      ]
     },
     "metadata": {
      "needs_background": "light"
     },
     "output_type": "display_data"
    }
   ],
   "source": [
    "agrupado.plot.bar(color = 'gray')"
   ]
  },
  {
   "cell_type": "code",
   "execution_count": 321,
   "id": "54721609",
   "metadata": {},
   "outputs": [
    {
     "data": {
      "text/plain": [
       "Umidade\n",
       "65.0    1\n",
       "70.0    3\n",
       "75.0    1\n",
       "80.0    1\n",
       "85.0    1\n",
       "85.5    2\n",
       "86.0    1\n",
       "90.0    2\n",
       "91.0    1\n",
       "95.0    1\n",
       "dtype: int64"
      ]
     },
     "execution_count": 321,
     "metadata": {},
     "output_type": "execute_result"
    }
   ],
   "source": [
    "#explorar dados categoricos\n",
    "#Umidade\n",
    "agrupado = dataset.groupby(['Umidade']).size()\n",
    "agrupado"
   ]
  },
  {
   "cell_type": "code",
   "execution_count": 322,
   "id": "3ef0a10f",
   "metadata": {},
   "outputs": [
    {
     "data": {
      "text/plain": [
       "<AxesSubplot:xlabel='Umidade'>"
      ]
     },
     "execution_count": 322,
     "metadata": {},
     "output_type": "execute_result"
    },
    {
     "data": {
      "image/png": "[encoded data removed]",
      "text/plain": [
       "<Figure size 432x288 with 1 Axes>"
      ]
     },
     "metadata": {
      "needs_background": "light"
     },
     "output_type": "display_data"
    }
   ],
   "source": [
    "agrupado.plot.bar(color = 'gray')"
   ]
  },
  {
   "cell_type": "markdown",
   "id": "5c64a044",
   "metadata": {},
   "source": [
    "#### Dessa forma foi possível entender a importância de um processo de análise exploratória, para entender de fato se os dados que serão analisados pertencem aos domínios especificados."
   ]
  }
 ],
 "metadata": {
  "kernelspec": {
   "display_name": "Python 3 (ipykernel)",
   "language": "python",
   "name": "python3"
  },
  "language_info": {
   "codemirror_mode": {
    "name": "ipython",
    "version": 3
   },
   "file_extension": ".py",
   "mimetype": "text/x-python",
   "name": "python",
   "nbconvert_exporter": "python",
   "pygments_lexer": "ipython3",
   "version": "3.9.12"
  },
  "vscode": {
   "interpreter": {
    "hash": "d3aa3d15a61c687885d7fe15acd245c5c9339052b129337a91067d556cb354a9"
   }
  }
 },
 "nbformat": 4,
 "nbformat_minor": 5
}
